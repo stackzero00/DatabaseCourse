{
  "nbformat": 4,
  "nbformat_minor": 0,
  "metadata": {
    "colab": {
      "provenance": [],
      "authorship_tag": "ABX9TyMxbz923yPfnuT1IYC3TEoz",
      "include_colab_link": true
    },
    "kernelspec": {
      "name": "python3",
      "display_name": "Python 3"
    },
    "language_info": {
      "name": "python"
    }
  },
  "cells": [
    {
      "cell_type": "markdown",
      "metadata": {
        "id": "view-in-github",
        "colab_type": "text"
      },
      "source": [
        "<a href=\"https://colab.research.google.com/github/stackzero00/DatabaseCourse/blob/main/MidTermAssignment_ITS_Service.ipynb\" target=\"_parent\"><img src=\"https://colab.research.google.com/assets/colab-badge.svg\" alt=\"Open In Colab\"/></a>"
      ]
    },
    {
      "cell_type": "code",
      "execution_count": 1,
      "metadata": {
        "id": "fTA2iFu7Aub7"
      },
      "outputs": [],
      "source": [
        "from sqlalchemy import create_engine\n",
        "my_conn = create_engine(\"sqlite:////content/MidTermAssignmentDB.db\")\n",
        "conn = my_conn.connect()"
      ]
    },
    {
      "cell_type": "code",
      "source": [
        "try:\n",
        "  my_conn.execute('''\n",
        "    create table if not exists VEHICLE(\n",
        "      Vehicle_ID text primary key,\n",
        "      Registration_ID text,\n",
        "      Manufacturer text,\n",
        "      Model text,\n",
        "      Color text,\n",
        "      Current_Odometer integer,\n",
        "      Passanger_Capacity integer,\n",
        "      Is_Available integer\n",
        "      );''')\n",
        "  print(\"create successfully\")\n",
        "except SQLAlchemyError as e:\n",
        "  error = str(e.__dict__['orig'])\n",
        "  print(error)"
      ],
      "metadata": {
        "colab": {
          "base_uri": "https://localhost:8080/"
        },
        "id": "89emFjMjA7vA",
        "outputId": "88712e74-1dae-490c-a082-c32cdcd90f2f"
      },
      "execution_count": 2,
      "outputs": [
        {
          "output_type": "stream",
          "name": "stdout",
          "text": [
            "create successfully\n"
          ]
        }
      ]
    },
    {
      "cell_type": "code",
      "source": [
        "r_set=my_conn.execute('''insert into 'VEHICLE'\n",
        "('Vehicle_ID', 'Registration_ID', 'Manufacturer', 'Model', 'Color', 'Current_Odometer', 'Passanger_Capacity', 'Is_Available') values\n",
        "('V1000', '2001ABC', 'Volvo', 'XC90SE', 'Silver', 4350, 4, 0)\n",
        "''')"
      ],
      "metadata": {
        "id": "v36owabrBAdB"
      },
      "execution_count": 3,
      "outputs": []
    },
    {
      "cell_type": "code",
      "source": [
        "r_set=my_conn.execute('''insert into 'VEHICLE'\n",
        "('Vehicle_ID', 'Registration_ID', 'Manufacturer', 'Model', 'Color', 'Current_Odometer', 'Passanger_Capacity', 'Is_Available') values\n",
        "('V1001', '2006AFD', 'Kia', 'K7', 'Black', 2195, 4, 0),\n",
        "('V1002', '2021AHR', 'Tesla', '2020F', 'White', 509, 4, 0),\n",
        "('V1003', '2020DXF', 'Ford', 'Transit', 'Silver', 974, 2, 0)\n",
        "''')"
      ],
      "metadata": {
        "id": "nkJa0tVvBElE"
      },
      "execution_count": 4,
      "outputs": []
    },
    {
      "cell_type": "code",
      "source": [
        "try:\n",
        "  my_conn.execute('''\n",
        "    create table if not exists VEHICLE_STATE(\n",
        "      STATUS_ID integer primary key,\n",
        "      Vehicle_ID integer,\n",
        "      Action_Type text,\n",
        "      Odometer integer,\n",
        "      Final_Cost integer,\n",
        "      Action_Description text,\n",
        "      Date text,\n",
        "      FOREIGN KEY (Vehicle_ID) REFERENCES VEHICLE(Vehicle_ID)\n",
        "      );''')\n",
        "  print(\"create successfully\")\n",
        "except SQLAlchemyError as e:\n",
        "  error = str(e.__dict__['orig'])\n",
        "  print(error)\n"
      ],
      "metadata": {
        "colab": {
          "base_uri": "https://localhost:8080/"
        },
        "id": "l0BEV1fLBkk9",
        "outputId": "1dd45474-36d9-4d70-a3d3-8234e470a875"
      },
      "execution_count": 5,
      "outputs": [
        {
          "output_type": "stream",
          "name": "stdout",
          "text": [
            "create successfully\n"
          ]
        }
      ]
    },
    {
      "cell_type": "code",
      "source": [
        "try:\n",
        "  my_conn.execute('''\n",
        "    create table if not exists COUNTRY(\n",
        "      Country text primary key,\n",
        "      Language text\n",
        "      );''')\n",
        "  print(\"create successfully\")\n",
        "except SQLAlchemyError as e:\n",
        "  error = str(e.__dict__['orig'])\n",
        "  print(error)"
      ],
      "metadata": {
        "colab": {
          "base_uri": "https://localhost:8080/"
        },
        "id": "UEo9vE_3BpiZ",
        "outputId": "e42e38af-a44a-4dbf-962a-5b21c87561db"
      },
      "execution_count": 6,
      "outputs": [
        {
          "output_type": "stream",
          "name": "stdout",
          "text": [
            "create successfully\n"
          ]
        }
      ]
    },
    {
      "cell_type": "code",
      "source": [
        "try:\n",
        "  my_conn.execute('''\n",
        "    create table if not exists OFFICIALS(\n",
        "      Official_ID integer primary key,\n",
        "      City_ID text,\n",
        "      Name text,\n",
        "      Role text,\n",
        "      Language text,\n",
        "      Country,\n",
        "      FOREIGN KEY (Country) REFERENCES COUNTRY(Country)\n",
        "      );''')\n",
        "  print(\"create successfully\")\n",
        "except SQLAlchemyError as e:\n",
        "  error = str(e.__dict__['orig'])\n",
        "  print(error)"
      ],
      "metadata": {
        "colab": {
          "base_uri": "https://localhost:8080/"
        },
        "id": "cRV6Z9SPByZn",
        "outputId": "78340261-0246-4197-f6b9-e7ab0375c6a9"
      },
      "execution_count": 7,
      "outputs": [
        {
          "output_type": "stream",
          "name": "stdout",
          "text": [
            "create successfully\n"
          ]
        }
      ]
    },
    {
      "cell_type": "code",
      "source": [
        "try:\n",
        "  my_conn.execute('''\n",
        "    create table if not exists DRIVER(\n",
        "      Driver_ID integer primary key,\n",
        "      Name text,\n",
        "      License_Num text,\n",
        "      Clearance_Level integer,\n",
        "      Language text\n",
        "      );''')\n",
        "  print(\"create successfully\")\n",
        "except SQLAlchemyError as e:\n",
        "  error = str(e.__dict__['orig'])\n",
        "  print(error)"
      ],
      "metadata": {
        "colab": {
          "base_uri": "https://localhost:8080/"
        },
        "id": "4WtcwkcgBzf6",
        "outputId": "a676685c-e0c9-4c22-d7ec-fda8064fa9a4"
      },
      "execution_count": 8,
      "outputs": [
        {
          "output_type": "stream",
          "name": "stdout",
          "text": [
            "create successfully\n"
          ]
        }
      ]
    },
    {
      "cell_type": "code",
      "source": [
        "try:\n",
        "  my_conn.execute('''\n",
        "    create table if not exists FATL(\n",
        "      FATL_ID int primary key,\n",
        "      Driver_ID integer,\n",
        "      Qualification_Date text,\n",
        "      foreign key (Driver_ID) references DRIVER(Driver_ID)\n",
        "      );''')\n",
        "  print(\"create successfully\")\n",
        "except SQLAlchemyError as e:\n",
        "  error = str(e.__dict__['orig'])\n",
        "  print(error)"
      ],
      "metadata": {
        "colab": {
          "base_uri": "https://localhost:8080/"
        },
        "id": "SIckNokcB2Yq",
        "outputId": "69e3a58c-be4b-471a-f704-fa73a64ff010"
      },
      "execution_count": 9,
      "outputs": [
        {
          "output_type": "stream",
          "name": "stdout",
          "text": [
            "create successfully\n"
          ]
        }
      ]
    },
    {
      "cell_type": "code",
      "source": [
        "try:\n",
        "  my_conn.execute('''\n",
        "    create table if not exists STLVT(\n",
        "      STLVT_ID int primary key,\n",
        "      Driver_ID integer,\n",
        "      Qualification_Date text not null,\n",
        "      Certifying_Authority text not null,\n",
        "      foreign key (Driver_ID) references DRIVER(Driver_ID)\n",
        "      );''')\n",
        "  print(\"create successfully\")\n",
        "except SQLAlchemyError as e:\n",
        "  error = str(e.__dict__['orig'])\n",
        "  print(error)"
      ],
      "metadata": {
        "colab": {
          "base_uri": "https://localhost:8080/"
        },
        "id": "enkz1aOqB5cT",
        "outputId": "3a273eed-c62c-4284-c1f8-e741d5abb53f"
      },
      "execution_count": 10,
      "outputs": [
        {
          "output_type": "stream",
          "name": "stdout",
          "text": [
            "create successfully\n"
          ]
        }
      ]
    },
    {
      "cell_type": "code",
      "source": [
        "try:\n",
        "  my_conn.execute('''\n",
        "    create table if not exists BOOKING_SERVICE(\n",
        "      Booking_Reference_ID integer primary key,\n",
        "      Driver_ID integer,\n",
        "      Official_ID integer,\n",
        "      Vehicle_ID text,\n",
        "      Start_Date text,\n",
        "      Start_Odometer int,\n",
        "      Pickup_Location_Name text,\n",
        "      Pickup_DateTime text,\n",
        "      Pickup_Address text,\n",
        "      Pickup_Type text,\n",
        "      End_Date text,\n",
        "      End_Odometer int,\n",
        "      Dropoff_Location text,\n",
        "      Dropoff_DateTime text,\n",
        "      Dropoff_Address text,\n",
        "      Dropoff_Type text,\n",
        "      foreign key (Driver_ID) references DRIVER(Driver_ID),\n",
        "      foreign key (Official_ID) references OFFICIALS(Official_ID),\n",
        "      foreign key (Vehicle_ID) references VEHICLE(Vehicle_ID)\n",
        "      );''')\n",
        "  print(\"create successfully\")\n",
        "except SQLAlchemyError as e:\n",
        "  error = str(e.__dict__['orig'])\n",
        "  print(error)"
      ],
      "metadata": {
        "colab": {
          "base_uri": "https://localhost:8080/"
        },
        "id": "C9dCGkzgB7yw",
        "outputId": "0a57c067-7b36-4c92-c013-564e8d57d06b"
      },
      "execution_count": 11,
      "outputs": [
        {
          "output_type": "stream",
          "name": "stdout",
          "text": [
            "create successfully\n"
          ]
        }
      ]
    },
    {
      "cell_type": "code",
      "source": [],
      "metadata": {
        "id": "DnzGsI-6O9my"
      },
      "execution_count": null,
      "outputs": []
    },
    {
      "cell_type": "code",
      "source": [
        "r_set=my_conn.execute('''insert into 'COUNTRY'\n",
        "('Country', 'Language') values\n",
        "('Korea', 'KR'),\n",
        "('USA', 'US'),\n",
        "('CHINA', 'CN'),\n",
        "('UK', 'GB'),\n",
        "('RUSSIA', 'RU'),\n",
        "('FRANCE', 'FR'),\n",
        "('MEXICO','MX'),\n",
        "('JAPAN','JP')\n",
        "''')"
      ],
      "metadata": {
        "id": "QG6s1Sl2CfL3"
      },
      "execution_count": 14,
      "outputs": []
    },
    {
      "cell_type": "code",
      "source": [
        "r_set=my_conn.execute('''insert into 'OFFICIALS'\n",
        "('Official_ID', 'City_ID', 'Name', 'Role', 'Language', 'Country') values\n",
        "('1', 'Namdong-gu', 'Tom', 'coach', 'US', 'USA'),\n",
        "('2', 'Yeonsu-gu', 'James', 'judge', 'FR', 'FRANCE'),\n",
        "('3', 'Michuhol-gu', 'Minsu', 'physician', 'KR', 'KOREA'),\n",
        "('4', 'Dong-gu','Paul', 'manager', 'GB', 'UK'),\n",
        "('5', 'Jung-gu', 'valdimir', 'coach', 'RU', 'RUSSIA')\n",
        "''')"
      ],
      "metadata": {
        "id": "APcb832TDk3t"
      },
      "execution_count": 16,
      "outputs": []
    },
    {
      "cell_type": "code",
      "source": [
        "r_set=my_conn.execute('''insert into 'DRIVER'\n",
        "('Driver_ID', 'Name', 'License_Num', 'Clearance_Level', 'Language') values\n",
        "('0', 'John', 'aleicn2018kka10831', 4, 'US'),\n",
        "('1', 'Max', 'alqn028ow883lxmel2', 2, 'JP'),\n",
        "('2', 'Alex', 'o92iqmwoapwlo19314', 2, 'FR'),\n",
        "('3', 'Asruid', 'll9endkfmw8291103j', 4, 'CN'),\n",
        "('4', 'Tes', 'gbd93n1leianeowlwm', 1, 'RU'),\n",
        "('5', 'Robbert', 'a3282894jemandlems', 3, 'MX')\n",
        "''')"
      ],
      "metadata": {
        "id": "8Q__U-npF5I9"
      },
      "execution_count": 19,
      "outputs": []
    },
    {
      "cell_type": "code",
      "source": [
        "r_set=my_conn.execute('''insert into 'FATL'\n",
        "('FATL_ID','Driver_ID','Qualification_Date') values\n",
        "('0','1','2006-02-11'),\n",
        "('1','0','2007-11-14'),\n",
        "('2','4','2011-05-30')\n",
        "''')"
      ],
      "metadata": {
        "id": "ktT9Xv6kHsi4"
      },
      "execution_count": 21,
      "outputs": []
    },
    {
      "cell_type": "code",
      "source": [
        "r_set=my_conn.execute('''insert into 'STLVT'\n",
        "('STLVT_ID','Driver_ID','Qualification_Date', 'Certifying_Authority') values\n",
        "('0','2','2005-02-01', 'Local Police Station'),\n",
        "('1','4','2008-11-24' , 'foreign police station'),\n",
        "('2','3','2009-05-31' , 'Local Police Station'),\n",
        "('3','1','2016-05-30', 'Local Police Station')\n",
        "''')"
      ],
      "metadata": {
        "id": "RvC2gALSIQRb"
      },
      "execution_count": 22,
      "outputs": []
    },
    {
      "cell_type": "code",
      "source": [
        "r_set=my_conn.execute('''insert into 'BOOKING_SERVICE'\n",
        "('Booking_Reference_ID','Driver_ID','Official_ID','Vehicle_ID','Start_Date', 'Start_Odometer', 'Pickup_Location_Name', 'Pickup_DateTime','Pickup_Address', 'Pickup_Type', 'End_Date', 'End_Odometer', 'Dropoff_Location', 'Dropoff_DateTime','Dropoff_Address', 'Dropoff_Type') values\n",
        "('0','2','2','V1000','2022-09-30', '0', 'Do-Hwa Station', '2022-09-30 10:30:00','Nam -gu Dowha 2,3-dong 668', 'Station', '2022-09-30', '100', 'INHA-UNIV', '2022-09-30 12:17:00','Inha-ro 100', 'University'),\n",
        "('1','4','5','V1001','2022-10-01', '100', 'Ju-An Station', '2022-10-01 15:30:00','Ju An-ro 91-1', 'Station','2022-09-30', '400', 'INHA-UNIV', '2022-09-30 12:17:00','Inha-ro 100', 'University' )\n",
        "''')"
      ],
      "metadata": {
        "id": "nSu9kRzLJD42"
      },
      "execution_count": 26,
      "outputs": []
    },
    {
      "cell_type": "code",
      "source": [
        "r_set=my_conn.execute('''select name from sqlite_master \n",
        "  where type = 'table' ''')\n",
        "for row in r_set:\n",
        "  print(row)"
      ],
      "metadata": {
        "colab": {
          "base_uri": "https://localhost:8080/"
        },
        "id": "1CNko6A4CBbI",
        "outputId": "63f5f31f-d142-4755-cf4a-a6d67e92e1f1"
      },
      "execution_count": 12,
      "outputs": [
        {
          "output_type": "stream",
          "name": "stdout",
          "text": [
            "('VEHICLE',)\n",
            "('VEHICLE_STATE',)\n",
            "('COUNTRY',)\n",
            "('OFFICIALS',)\n",
            "('DRIVER',)\n",
            "('FATL',)\n",
            "('STLVT',)\n",
            "('BOOKING_SERVICE',)\n"
          ]
        }
      ]
    },
    {
      "cell_type": "code",
      "source": [
        "r_set = my_conn.execute('''select * from VEHICLE ''')\n",
        "for row in r_set:\n",
        "  print(row)"
      ],
      "metadata": {
        "colab": {
          "base_uri": "https://localhost:8080/"
        },
        "id": "lIhrxIRCCRkB",
        "outputId": "027b32bf-fd7a-4727-f2f7-1287e11b3231"
      },
      "execution_count": 13,
      "outputs": [
        {
          "output_type": "stream",
          "name": "stdout",
          "text": [
            "('V1000', '2001ABC', 'Volvo', 'XC90SE', 'Silver', 4350, 4, 0)\n",
            "('V1001', '2006AFD', 'Kia', 'K7', 'Black', 2195, 4, 0)\n",
            "('V1002', '2021AHR', 'Tesla', '2020F', 'White', 509, 4, 0)\n",
            "('V1003', '2020DXF', 'Ford', 'Transit', 'Silver', 974, 2, 0)\n"
          ]
        }
      ]
    },
    {
      "cell_type": "code",
      "source": [
        "r_set = my_conn.execute('''select * from COUNTRY ''')\n",
        "for row in r_set:\n",
        "  print(row)"
      ],
      "metadata": {
        "colab": {
          "base_uri": "https://localhost:8080/"
        },
        "id": "z4kDi--CDheG",
        "outputId": "75497a8c-f955-4462-c6a2-4c4af83db3cf"
      },
      "execution_count": 15,
      "outputs": [
        {
          "output_type": "stream",
          "name": "stdout",
          "text": [
            "('Korea', 'KR')\n",
            "('USA', 'US')\n",
            "('CHINA', 'CN')\n",
            "('UK', 'GB')\n",
            "('RUSSIA', 'RU')\n",
            "('FRANCE', 'FR')\n",
            "('MEXICO', 'MX')\n",
            "('JAPAN', 'JP')\n"
          ]
        }
      ]
    },
    {
      "cell_type": "code",
      "source": [
        "r_set = my_conn.execute('''select * from OFFICIALS ''')\n",
        "for row in r_set:\n",
        "  print(row)"
      ],
      "metadata": {
        "colab": {
          "base_uri": "https://localhost:8080/"
        },
        "id": "xRc4YmlLFzaI",
        "outputId": "48fc8d6a-aa7a-4136-8738-e02336f6f44d"
      },
      "execution_count": 17,
      "outputs": [
        {
          "output_type": "stream",
          "name": "stdout",
          "text": [
            "(1, 'Namdong-gu', 'Tom', 'coach', 'US', 'USA')\n",
            "(2, 'Yeonsu-gu', 'James', 'judge', 'FR', 'FRANCE')\n",
            "(3, 'Michuhol-gu', 'Minsu', 'physician', 'KR', 'KOREA')\n",
            "(4, 'Dong-gu', 'Paul', 'manager', 'GB', 'UK')\n",
            "(5, 'Jung-gu', 'valdimir', 'coach', 'RU', 'RUSSIA')\n"
          ]
        }
      ]
    },
    {
      "cell_type": "code",
      "source": [
        "r_set = my_conn.execute('''select * from DRIVER ''')\n",
        "for row in r_set:\n",
        "  print(row)"
      ],
      "metadata": {
        "colab": {
          "base_uri": "https://localhost:8080/"
        },
        "id": "QvoiziIYHoeB",
        "outputId": "0429001e-9c1a-4a53-c4bb-3bf63a1c3b1a"
      },
      "execution_count": 20,
      "outputs": [
        {
          "output_type": "stream",
          "name": "stdout",
          "text": [
            "(0, 'John', 'aleicn2018kka10831', 4, 'US')\n",
            "(1, 'Max', 'alqn028ow883lxmel2', 2, 'JP')\n",
            "(2, 'Alex', 'o92iqmwoapwlo19314', 2, 'FR')\n",
            "(3, 'Asruid', 'll9endkfmw8291103j', 4, 'CN')\n",
            "(4, 'Tes', 'gbd93n1leianeowlwm', 1, 'RU')\n",
            "(5, 'Robbert', 'a3282894jemandlems', 3, 'MX')\n"
          ]
        }
      ]
    },
    {
      "cell_type": "code",
      "source": [
        "r_set = my_conn.execute('''select * from FATL ''')\n",
        "for row in r_set:\n",
        "  print(row)"
      ],
      "metadata": {
        "colab": {
          "base_uri": "https://localhost:8080/"
        },
        "id": "0cnlSKcLI5Bx",
        "outputId": "8c8f8d44-7a59-4cfe-90f7-afcac608d94c"
      },
      "execution_count": 23,
      "outputs": [
        {
          "output_type": "stream",
          "name": "stdout",
          "text": [
            "(0, 1, '2006-02-11')\n",
            "(1, 0, '2007-11-14')\n",
            "(2, 4, '2011-05-30')\n"
          ]
        }
      ]
    },
    {
      "cell_type": "code",
      "source": [
        "r_set = my_conn.execute('''select * from STLVT ''')\n",
        "for row in r_set:\n",
        "  print(row)"
      ],
      "metadata": {
        "colab": {
          "base_uri": "https://localhost:8080/"
        },
        "id": "5qp3JbLYI8yS",
        "outputId": "7256a01b-857d-4f7a-9e12-4cc62c83d948"
      },
      "execution_count": 24,
      "outputs": [
        {
          "output_type": "stream",
          "name": "stdout",
          "text": [
            "(0, 2, '2005-02-01', 'Local Police Station')\n",
            "(1, 4, '2008-11-24', 'foreign police station')\n",
            "(2, 3, '2009-05-31', 'Local Police Station')\n",
            "(3, 1, '2016-05-30', 'Local Police Station')\n"
          ]
        }
      ]
    },
    {
      "cell_type": "code",
      "source": [
        "r_set = my_conn.execute('''select * from BOOKING_SERVICE ''')\n",
        "for row in r_set:\n",
        "  print(row)"
      ],
      "metadata": {
        "colab": {
          "base_uri": "https://localhost:8080/"
        },
        "id": "8KPl-HTsOnMO",
        "outputId": "41847374-c8c1-435b-96f7-4e83d1a01526"
      },
      "execution_count": 27,
      "outputs": [
        {
          "output_type": "stream",
          "name": "stdout",
          "text": [
            "(0, 2, 2, 'V1000', '2022-09-30', 0, 'Do-Hwa Station', '2022-09-30 10:30:00', 'Nam -gu Dowha 2,3-dong 668', 'Station', '2022-09-30', 100, 'INHA-UNIV', '2022-09-30 12:17:00', 'Inha-ro 100', 'University')\n",
            "(1, 4, 5, 'V1001', '2022-10-01', 100, 'Ju-An Station', '2022-10-01 15:30:00', 'Ju An-ro 91-1', 'Station', '2022-09-30', 400, 'INHA-UNIV', '2022-09-30 12:17:00', 'Inha-ro 100', 'University')\n"
          ]
        }
      ]
    }
  ]
}