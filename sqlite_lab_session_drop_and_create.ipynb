{
  "nbformat": 4,
  "nbformat_minor": 0,
  "metadata": {
    "colab": {
      "provenance": [],
      "authorship_tag": "ABX9TyP/rGCMyJoWoSghp3z79ae0",
      "include_colab_link": true
    },
    "kernelspec": {
      "name": "python3",
      "display_name": "Python 3"
    },
    "language_info": {
      "name": "python"
    }
  },
  "cells": [
    {
      "cell_type": "markdown",
      "metadata": {
        "id": "view-in-github",
        "colab_type": "text"
      },
      "source": [
        "<a href=\"https://colab.research.google.com/github/stackzero00/DatabaseCourse/blob/main/sqlite_lab_session_drop_and_create.ipynb\" target=\"_parent\"><img src=\"https://colab.research.google.com/assets/colab-badge.svg\" alt=\"Open In Colab\"/></a>"
      ]
    },
    {
      "cell_type": "code",
      "execution_count": 1,
      "metadata": {
        "id": "-m8W0wJ4qKPy"
      },
      "outputs": [],
      "source": [
        "from sqlalchemy import create_engine\n",
        "my_conn = create_engine(\"sqlite:////content/my_db.db\")"
      ]
    },
    {
      "cell_type": "code",
      "source": [
        "from sqlalchemy.exc import SQLAlchemyError\n",
        "try:\n",
        "  my_conn.execute('''drop table student''')\n",
        "  print(\"student table deleted\")\n",
        "except SQLAlchemyError as e:\n",
        "  error = str(e.__dict__['orig'])\n",
        "  print(error)"
      ],
      "metadata": {
        "colab": {
          "base_uri": "https://localhost:8080/"
        },
        "id": "OhKEoGleqTos",
        "outputId": "2d02d1bd-8d89-4a85-eda1-74fcf5834eb3"
      },
      "execution_count": 2,
      "outputs": [
        {
          "output_type": "stream",
          "name": "stdout",
          "text": [
            "student table deleted\n"
          ]
        }
      ]
    },
    {
      "cell_type": "code",
      "source": [
        "from sqlalchemy.exc import SQLAlchemyError\n",
        "try:\n",
        "  my_conn.execute('''\n",
        "    create table if not exists student(\n",
        "      id integer primary key,\n",
        "      name text,\n",
        "      class text,\n",
        "      mark integer,\n",
        "      sex text\n",
        "      );''')\n",
        "  print(\"create successfully\")\n",
        "except SQLAlchemyError as e:\n",
        "  error = str(e.__dict__['orig'])\n",
        "  print(error)"
      ],
      "metadata": {
        "colab": {
          "base_uri": "https://localhost:8080/"
        },
        "id": "pIEzAb53qm2w",
        "outputId": "36da36ea-d30e-4c12-e5d7-aa942a966374"
      },
      "execution_count": 4,
      "outputs": [
        {
          "output_type": "stream",
          "name": "stdout",
          "text": [
            "create successfully\n"
          ]
        }
      ]
    },
    {
      "cell_type": "code",
      "source": [
        "r_set=my_conn.execute('''insert into 'student'\n",
        "('id', 'name', 'class', 'mark', 'sex') values\n",
        "(1, 'John Deo', 'Four', 75, 'female')\n",
        "''')"
      ],
      "metadata": {
        "id": "pR3_aa5urOYO"
      },
      "execution_count": 5,
      "outputs": []
    },
    {
      "cell_type": "code",
      "source": [],
      "metadata": {
        "id": "bjiT-QOYrqvr"
      },
      "execution_count": null,
      "outputs": []
    }
  ]
}